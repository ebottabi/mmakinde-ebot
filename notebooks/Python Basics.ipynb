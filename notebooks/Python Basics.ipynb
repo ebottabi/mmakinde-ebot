{
 "cells": [
  {
   "cell_type": "code",
   "execution_count": 1,
   "metadata": {},
   "outputs": [],
   "source": [
    "# multiply a list of integers by 2 and filter out odd number"
   ]
  },
  {
   "cell_type": "code",
   "execution_count": 7,
   "metadata": {},
   "outputs": [],
   "source": [
    "integer_list = [1.5, 2, 3, 5, 9, 4, 6, 8, 11]\n",
    "m = filter(lambda x: x % 2 == 0,  map(lambda x : x*2, integer_list))"
   ]
  },
  {
   "cell_type": "code",
   "execution_count": 10,
   "metadata": {},
   "outputs": [
    {
     "name": "stdout",
     "output_type": "stream",
     "text": [
      "[1.5, 2, 3, 5, 9, 4, 6, 8, 11]\n",
      "[4, 6, 10, 18, 8, 12, 16, 22]\n",
      "[3.0, 4, 6, 10, 18, 8, 12, 16, 22]\n"
     ]
    }
   ],
   "source": [
    "print integer_list\n",
    "print m\n",
    "print map(lambda x: x*2, integer_list)"
   ]
  },
  {
   "cell_type": "code",
   "execution_count": 12,
   "metadata": {},
   "outputs": [],
   "source": [
    "# another approach"
   ]
  },
  {
   "cell_type": "code",
   "execution_count": null,
   "metadata": {},
   "outputs": [],
   "source": [
    "map_list = []\n",
    "filtered_list = []\n",
    "\n",
    "for i in integer_list:\n",
    "    ma"
   ]
  }
 ],
 "metadata": {
  "kernelspec": {
   "display_name": "Python 2",
   "language": "python",
   "name": "python2"
  },
  "language_info": {
   "codemirror_mode": {
    "name": "ipython",
    "version": 2
   },
   "file_extension": ".py",
   "mimetype": "text/x-python",
   "name": "python",
   "nbconvert_exporter": "python",
   "pygments_lexer": "ipython2",
   "version": "2.7.10"
  }
 },
 "nbformat": 4,
 "nbformat_minor": 2
}
